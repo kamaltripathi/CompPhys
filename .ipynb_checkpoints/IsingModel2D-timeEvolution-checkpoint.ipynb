{
 "cells": [
  {
   "cell_type": "code",
   "execution_count": 1,
   "metadata": {},
   "outputs": [],
   "source": [
    "import numpy as np\n",
    "import matplotlib.pyplot as plt\n",
    "import random\n",
    "%matplotlib inline\n",
    "\n",
    "def initialize(latt_x, latt_y):\n",
    "    x = np.zeros((latt_x, latt_y))\n",
    "    for i in range(latt_x):\n",
    "        for j in range(latt_y):\n",
    "            if (np.random.uniform() < 0.5):\n",
    "                x[i][j] = -1\n",
    "            else:\n",
    "                x[i][j] = 1\n",
    "    return x\n",
    "\n",
    "\n",
    "def choose_rand(latt_x, latt_y):\n",
    "    return random.randrange(0,latt_x), random.randrange(0,latt_y)\n",
    "\n",
    "\n",
    "def get_neigh(i, j):\n",
    "    neigh_U = ((i+latt_x-1)%latt_x,j)\n",
    "    neigh_D = ((i+latt_x+1)%latt_x,j)\n",
    "    neigh_L = (i,(j+latt_y-1)%latt_y)\n",
    "    neigh_R = (i,(j+latt_x+1)%latt_y)\n",
    "    neigh_list = [neigh_U, neigh_D, neigh_L, neigh_R]\n",
    "    return neigh_list\n",
    "\n",
    "\n",
    "def cal_Mag(x):\n",
    "    m = 0.0\n",
    "    for i in range(latt_x):\n",
    "        for j in range(latt_y):\n",
    "            m+=x[i][j]\n",
    "    return m/(latt_x*latt_y)\n",
    "\n",
    "\n",
    "def cal_delEn(i,j):\n",
    "    E = -J* (s[i][j]*s[i][(j+latt_y-1)%latt_y] + s[i][j]*s[i][(j+latt_x+1)%latt_y] + \\\n",
    "             s[i][j]*s[(i+latt_x-1)%latt_x][j] + s[i][j]*s[(i+latt_x+1)%latt_x][j]) - h*s[i][j]\n",
    "    return E\n",
    "\n",
    "\n",
    "def cal_totEn(s):\n",
    "    E = 0.0\n",
    "    for i in range(latt_x):\n",
    "        for j in range(latt_y):\n",
    "            E += -J* (s[i][j]*s[i][(j+latt_y-1)%latt_y] + s[i][j]*s[i][(j+latt_x+1)%latt_y] + \\\n",
    "             s[i][j]*s[(i+latt_x-1)%latt_x][j] + s[i][j]*s[(i+latt_x+1)%latt_x][j]) - h*s[i][j]\n",
    "    return E"
   ]
  },
  {
   "cell_type": "code",
   "execution_count": 44,
   "metadata": {},
   "outputs": [
    {
     "data": {
      "image/png": "[encoded data removed]",
      "text/plain": [
       "<Figure size 1440x432 with 10 Axes>"
      ]
     },
     "metadata": {
      "needs_background": "light"
     },
     "output_type": "display_data"
    },
    {
     "name": "stdout",
     "output_type": "stream",
     "text": [
      "4390\n",
      "0.0878\n"
     ]
    }
   ],
   "source": [
    "T = 1.0\n",
    "J = 1.0\n",
    "h = -0.2\n",
    "\n",
    "latt_x = 50\n",
    "latt_y = 50\n",
    "Nsteps = 50000\n",
    "dump = Nsteps/10  #dump 5 points in the trajectory\n",
    "\n",
    "mcsteps = np.linspace(1,Nsteps, Nsteps)\n",
    "dumpsteps = np.linspace(1,dump, dump)\n",
    "\n",
    "E = []\n",
    "m = []\n",
    "state = []\n",
    "\n",
    "s = initialize(latt_x, latt_y)\n",
    "\n",
    "init_s = np.zeros((latt_x, latt_y))\n",
    "for i in range(latt_x):\n",
    "    for j in range(latt_y):\n",
    "        init_s[i][j] = s[i][j]\n",
    "        \n",
    "fig = plt.figure(figsize = (20,6))\n",
    "num = 0    \n",
    "num_accepted = 0\n",
    "for i in range(Nsteps):\n",
    "    ind_x, ind_y = choose_rand(latt_x, latt_y)\n",
    "    E1 = cal_delEn(ind_x,ind_y)\n",
    "    s[ind_x, ind_y] = -1*s[ind_x, ind_y]\n",
    "    E2 = cal_delEn(ind_x, ind_y)\n",
    "    if (E2 < E1):\n",
    "        num_accepted+=1\n",
    "    elif (np.random.uniform() < np.exp(-(E2-E1)/T)):\n",
    "        num_accepted+=1\n",
    "    else:\n",
    "        s[ind_x, ind_y] = -1*s[ind_x, ind_y]\n",
    "    if (i%dump ==0):\n",
    "        num+=1\n",
    "        ax = fig.add_subplot(2,5,num)\n",
    "        ax.imshow(s,cmap='jet')\n",
    "        ax.set_title('At t = ' + str(num))\n",
    "    else:\n",
    "        pass\n",
    "    \n",
    "plt.tight_layout()\n",
    "plt.show()\n",
    "\n",
    "\n",
    "Prob_acc = num_accepted/Nsteps\n",
    "print(num_accepted)\n",
    "print(Prob_acc)"
   ]
  },
  {
   "cell_type": "code",
   "execution_count": null,
   "metadata": {},
   "outputs": [],
   "source": []
  }
 ],
 "metadata": {
  "kernelspec": {
   "display_name": "Python 3",
   "language": "python",
   "name": "python3"
  },
  "language_info": {
   "codemirror_mode": {
    "name": "ipython",
    "version": 3
   },
   "file_extension": ".py",
   "mimetype": "text/x-python",
   "name": "python",
   "nbconvert_exporter": "python",
   "pygments_lexer": "ipython3",
   "version": "3.8.5"
  }
 },
 "nbformat": 4,
 "nbformat_minor": 2
}
