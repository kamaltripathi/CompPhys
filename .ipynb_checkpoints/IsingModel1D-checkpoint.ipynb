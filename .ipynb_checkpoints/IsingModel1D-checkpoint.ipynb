{
 "cells": [
  {
   "cell_type": "code",
   "execution_count": 1,
   "metadata": {},
   "outputs": [],
   "source": [
    "import numpy as np\n",
    "import matplotlib.pyplot as plt\n",
    "import random\n",
    "%matplotlib inline\n",
    "\n",
    "def initialize(latt_x):\n",
    "    x = np.zeros(latt_x)\n",
    "    for i in range(latt_x):\n",
    "        if (np.random.uniform() < 0.5):\n",
    "            x[i] = -1\n",
    "        else:\n",
    "            x[i] = 1\n",
    "    return x\n",
    "\n",
    "\n",
    "def choose_rand():\n",
    "    return random.randrange(0,latt_x)\n",
    "\n",
    "\n",
    "def cal_Mag(x):\n",
    "    m = 0.0\n",
    "    for i in range(latt_x):\n",
    "        m+=x[i]\n",
    "    return m/latt_x\n",
    "\n",
    "\n",
    "def cal_En(x):\n",
    "    E = 0.0\n",
    "    E+= -J* (x[latt_x-1]*x[0] + x[0]*x[1]) - h*x[0]\n",
    "    E+= -J* (x[latt_x-2]*x[latt_x-1] + x[latt_x-1]*x[0]) -h*x[latt_x-1]\n",
    "    for i in range(1,latt_x-1):\n",
    "        E+= -J *(x[i-1]*x[i] + x[i]*x[i+1]) - h*x[i]\n",
    "    return E"
   ]
  },
  {
   "cell_type": "code",
   "execution_count": 5,
   "metadata": {},
   "outputs": [],
   "source": [
    "T = 1.0\n",
    "J = 1.0\n",
    "h = 0.2\n",
    "\n",
    "latt_x = 1000\n",
    "Nsteps = 100000\n",
    "\n",
    "\n",
    "mcsteps = np.linspace(1,Nsteps, Nsteps)\n",
    "E = np.zeros(Nsteps)\n",
    "m = np.zeros(Nsteps)\n",
    "\n",
    "\n",
    "s = initialize(latt_x)\n",
    "init_s = np.zeros(latt_x)\n",
    "for i in range(latt_x):\n",
    "    init_s[i] = s[i]\n",
    "\n",
    "for i in range(Nsteps):\n",
    "    E1 = cal_En(s)    \n",
    "    flp_ind = choose_rand()\n",
    "    s[flp_ind] = -1*s[flp_ind]\n",
    "    E2 = cal_En(s)\n",
    "    if (E2 < E1):\n",
    "        E[i] = E2\n",
    "        m[i] = cal_Mag(s)\n",
    "    elif (np.random.uniform() < np.exp(-(E2-E1)/T)):\n",
    "        E[i] = E2\n",
    "        m[i] = cal_Mag(s)\n",
    "\n",
    "    else:\n",
    "        s[flp_ind] = -1*s[flp_ind]\n",
    "        E[i] = E1\n",
    "        m[i] = cal_Mag(s)\n"
   ]
  },
  {
   "cell_type": "code",
   "execution_count": 6,
   "metadata": {},
   "outputs": [
    {
     "data": {
      "image/png": "[encoded data removed]",
      "text/plain": [
       "<Figure size 864x180 with 4 Axes>"
      ]
     },
     "metadata": {
      "needs_background": "light"
     },
     "output_type": "display_data"
    }
   ],
   "source": [
    "fig = plt.figure(figsize = (12,2.5))\n",
    "ax1 = fig.add_subplot(141)\n",
    "plt.hist(init_s)\n",
    "plt.xlabel(\"spin state\")\n",
    "plt.ylabel(\"Numbers\")\n",
    "plt.title(\"Initial State\")\n",
    "\n",
    "ax2 = fig.add_subplot(142)\n",
    "plt.hist(s)\n",
    "plt.xlabel(\"spin state\")\n",
    "plt.ylabel(\"Numbers\")\n",
    "plt.title(\"Final State\")\n",
    "\n",
    "ax3 = fig.add_subplot(143)\n",
    "plt.plot(mcsteps, m)\n",
    "plt.xlabel(\"mc steps\")\n",
    "plt.ylabel(\"Magnetization\")\n",
    "\n",
    "ax4 = fig.add_subplot(144)\n",
    "plt.plot(mcsteps, E)\n",
    "plt.xlabel(\"mc steps\")\n",
    "plt.ylabel(\"Energy\")\n",
    "\n",
    "plt.tight_layout()\n",
    "plt.show()"
   ]
  },
  {
   "cell_type": "code",
   "execution_count": null,
   "metadata": {},
   "outputs": [],
   "source": []
  }
 ],
 "metadata": {
  "kernelspec": {
   "display_name": "Python 3",
   "language": "python",
   "name": "python3"
  },
  "language_info": {
   "codemirror_mode": {
    "name": "ipython",
    "version": 3
   },
   "file_extension": ".py",
   "mimetype": "text/x-python",
   "name": "python",
   "nbconvert_exporter": "python",
   "pygments_lexer": "ipython3",
   "version": "3.8.5"
  }
 },
 "nbformat": 4,
 "nbformat_minor": 2
}
